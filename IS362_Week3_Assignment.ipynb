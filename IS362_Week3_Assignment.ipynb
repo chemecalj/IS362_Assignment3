{
 "cells": [
  {
   "cell_type": "markdown",
   "metadata": {},
   "source": [
    "# IS 362 Week 3 Assignment"
   ]
  },
  {
   "cell_type": "markdown",
   "metadata": {},
   "source": [
    "Suppose you have ridden a bicycle from New York City to Key West, Florida.  Your bicycle odometer shows the total miles, which you have dutifully logged at the end of each day with paper and pencil.  Your first two entries might be 55 and 120, indicating that you rode your bike 55 miles on day 1 and 65 miles on day 2.  Your task is to create a pandas Series object that holds the cumulative miles at the end of each day, then use your Python skills to show the total miles that you rode each day.  Consider how you should best present this information in a Jupyter notebook.  You should save your Jupyter Notebook to your GitHub repository, and provide a link in your assignment submission.\n",
    "\n",
    "The first variable we need is the travel variable to so we can set a date range. This range will be associated with the odometer variable and that is how I will track miles rode per day."
   ]
  },
  {
   "cell_type": "code",
   "execution_count": 2,
   "metadata": {},
   "outputs": [
    {
     "name": "stdout",
     "output_type": "stream",
     "text": [
      "2018-02-11     55\n",
      "2018-02-12    120\n",
      "2018-02-13    190\n",
      "2018-02-14    240\n",
      "2018-02-15    310\n",
      "2018-02-16    370\n",
      "2018-02-17    440\n",
      "Freq: D, dtype: int64\n"
     ]
    }
   ],
   "source": [
    "import pandas as pd\n",
    "import datetime\n",
    "\n",
    "travel = pd.date_range('2018-02-11', '2018-02-17')\n",
    "odometer = pd.Series([55, 120, 190, 240, 310, 370, 440], index = travel)\n",
    "print (odometer)"
   ]
  },
  {
   "cell_type": "markdown",
   "metadata": {},
   "source": [
    "Our total miles is known in the odometer series but we need to calculate miles traveled per day."
   ]
  },
  {
   "cell_type": "code",
   "execution_count": 3,
   "metadata": {
    "scrolled": true
   },
   "outputs": [
    {
     "name": "stdout",
     "output_type": "stream",
     "text": [
      "2018-02-11 00:00:00: 55 Miles\n",
      "2018-02-12 00:00:00: 65 Miles\n",
      "2018-02-13 00:00:00: 70 Miles\n",
      "2018-02-14 00:00:00: 50 Miles\n",
      "2018-02-15 00:00:00: 70 Miles\n",
      "2018-02-16 00:00:00: 60 Miles\n",
      "2018-02-17 00:00:00: 70 Miles\n"
     ]
    }
   ],
   "source": [
    "dailymiles = {}\n",
    "odoprev = 0\n",
    "\n",
    "for day, odomile in odometer.items():\n",
    "    daymiles = odomile - odoprev\n",
    "    dailymiles[day] = daymiles\n",
    "    print (str(day) + ': ' + str(daymiles) + ' Miles')\n",
    "    odoprev = odomile"
   ]
  },
  {
   "cell_type": "markdown",
   "metadata": {},
   "source": [
    "Now we will format it to show dates and miles:"
   ]
  },
  {
   "cell_type": "code",
   "execution_count": 4,
   "metadata": {},
   "outputs": [
    {
     "name": "stdout",
     "output_type": "stream",
     "text": [
      "2018-02-11    55\n",
      "2018-02-12    65\n",
      "2018-02-13    70\n",
      "2018-02-14    50\n",
      "2018-02-15    70\n",
      "2018-02-16    60\n",
      "2018-02-17    70\n",
      "dtype: int64\n"
     ]
    }
   ],
   "source": [
    "dailymiles = pd.Series(dailymiles)\n",
    "print(dailymiles)"
   ]
  }
 ],
 "metadata": {
  "kernelspec": {
   "display_name": "Python 3",
   "language": "python",
   "name": "python3"
  },
  "language_info": {
   "codemirror_mode": {
    "name": "ipython",
    "version": 3
   },
   "file_extension": ".py",
   "mimetype": "text/x-python",
   "name": "python",
   "nbconvert_exporter": "python",
   "pygments_lexer": "ipython3",
   "version": "3.6.3"
  }
 },
 "nbformat": 4,
 "nbformat_minor": 2
}
